{
  "nbformat": 4,
  "nbformat_minor": 0,
  "metadata": {
    "colab": {
      "name": "1-StockPrice.ipynb",
      "version": "0.3.2",
      "provenance": [],
      "collapsed_sections": []
    },
    "language_info": {
      "codemirror_mode": {
        "name": "ipython",
        "version": 3
      },
      "file_extension": ".py",
      "mimetype": "text/x-python",
      "name": "python",
      "nbconvert_exporter": "python",
      "pygments_lexer": "ipython3",
      "version": "3.6.7"
    },
    "kernelspec": {
      "display_name": "Python 3",
      "language": "python",
      "name": "python3"
    }
  },
  "cells": [
    {
      "cell_type": "markdown",
      "metadata": {
        "id": "RJmdW8SdikhQ",
        "colab_type": "text"
      },
      "source": [
        "https://www.youtube.com/watch?v=2BrpKpWwT2A&list=PLQVvvaa0QuDcOdF96TBtRtuQksErCEBYZ"
      ]
    },
    {
      "cell_type": "code",
      "metadata": {
        "id": "i3Tm7j3YiO6O",
        "colab_type": "code",
        "colab": {}
      },
      "source": [
        "import datetime as dt\n",
        "import matplotlib.pyplot as plt\n",
        "from matplotlib import style\n",
        "import pandas as pd\n",
        "import pandas_datareader.data as web"
      ],
      "execution_count": 0,
      "outputs": []
    },
    {
      "cell_type": "code",
      "metadata": {
        "id": "MXgldE5diO6V",
        "colab_type": "code",
        "colab": {}
      },
      "source": [
        "style.use('ggplot')\n",
        "start=dt.datetime(2000,1,1)\n",
        "end=dt.datetime(2019,12,31)"
      ],
      "execution_count": 0,
      "outputs": []
    },
    {
      "cell_type": "code",
      "metadata": {
        "id": "In1Vmo5hiO6a",
        "colab_type": "code",
        "colab": {}
      },
      "source": [
        "df=web.DataReader('GOOG','yahoo',start,end)"
      ],
      "execution_count": 0,
      "outputs": []
    },
    {
      "cell_type": "code",
      "metadata": {
        "id": "EZjQwXDNiO6f",
        "colab_type": "code",
        "outputId": "636c7a9c-def0-4f12-8dd6-82cc08342465",
        "colab": {
          "base_uri": "https://localhost:8080/",
          "height": 235
        }
      },
      "source": [
        "df.tail()"
      ],
      "execution_count": 4,
      "outputs": [
        {
          "output_type": "execute_result",
          "data": {
            "text/html": [
              "<div>\n",
              "<style scoped>\n",
              "    .dataframe tbody tr th:only-of-type {\n",
              "        vertical-align: middle;\n",
              "    }\n",
              "\n",
              "    .dataframe tbody tr th {\n",
              "        vertical-align: top;\n",
              "    }\n",
              "\n",
              "    .dataframe thead th {\n",
              "        text-align: right;\n",
              "    }\n",
              "</style>\n",
              "<table border=\"1\" class=\"dataframe\">\n",
              "  <thead>\n",
              "    <tr style=\"text-align: right;\">\n",
              "      <th></th>\n",
              "      <th>High</th>\n",
              "      <th>Low</th>\n",
              "      <th>Open</th>\n",
              "      <th>Close</th>\n",
              "      <th>Volume</th>\n",
              "      <th>Adj Close</th>\n",
              "    </tr>\n",
              "    <tr>\n",
              "      <th>Date</th>\n",
              "      <th></th>\n",
              "      <th></th>\n",
              "      <th></th>\n",
              "      <th></th>\n",
              "      <th></th>\n",
              "      <th></th>\n",
              "    </tr>\n",
              "  </thead>\n",
              "  <tbody>\n",
              "    <tr>\n",
              "      <th>2019-06-28</th>\n",
              "      <td>1081.000000</td>\n",
              "      <td>1073.369995</td>\n",
              "      <td>1076.390015</td>\n",
              "      <td>1080.910034</td>\n",
              "      <td>1693200.0</td>\n",
              "      <td>1080.910034</td>\n",
              "    </tr>\n",
              "    <tr>\n",
              "      <th>2019-07-01</th>\n",
              "      <td>1107.579956</td>\n",
              "      <td>1093.703003</td>\n",
              "      <td>1098.000000</td>\n",
              "      <td>1097.949951</td>\n",
              "      <td>1436300.0</td>\n",
              "      <td>1097.949951</td>\n",
              "    </tr>\n",
              "    <tr>\n",
              "      <th>2019-07-02</th>\n",
              "      <td>1111.770020</td>\n",
              "      <td>1098.170044</td>\n",
              "      <td>1102.239990</td>\n",
              "      <td>1111.250000</td>\n",
              "      <td>991600.0</td>\n",
              "      <td>1111.250000</td>\n",
              "    </tr>\n",
              "    <tr>\n",
              "      <th>2019-07-03</th>\n",
              "      <td>1126.760010</td>\n",
              "      <td>1113.859985</td>\n",
              "      <td>1117.410034</td>\n",
              "      <td>1121.579956</td>\n",
              "      <td>767000.0</td>\n",
              "      <td>1121.579956</td>\n",
              "    </tr>\n",
              "    <tr>\n",
              "      <th>2019-07-05</th>\n",
              "      <td>1126.150024</td>\n",
              "      <td>1116.140015</td>\n",
              "      <td>1117.800049</td>\n",
              "      <td>1122.949951</td>\n",
              "      <td>459238.0</td>\n",
              "      <td>1122.949951</td>\n",
              "    </tr>\n",
              "  </tbody>\n",
              "</table>\n",
              "</div>"
            ],
            "text/plain": [
              "                   High          Low  ...     Volume    Adj Close\n",
              "Date                                  ...                        \n",
              "2019-06-28  1081.000000  1073.369995  ...  1693200.0  1080.910034\n",
              "2019-07-01  1107.579956  1093.703003  ...  1436300.0  1097.949951\n",
              "2019-07-02  1111.770020  1098.170044  ...   991600.0  1111.250000\n",
              "2019-07-03  1126.760010  1113.859985  ...   767000.0  1121.579956\n",
              "2019-07-05  1126.150024  1116.140015  ...   459238.0  1122.949951\n",
              "\n",
              "[5 rows x 6 columns]"
            ]
          },
          "metadata": {
            "tags": []
          },
          "execution_count": 4
        }
      ]
    },
    {
      "cell_type": "code",
      "metadata": {
        "id": "wJ87VWpPiO6k",
        "colab_type": "code",
        "colab": {}
      },
      "source": [
        "#salvar para um csv o dataframe\n",
        "df.to_csv('tsla.csv')"
      ],
      "execution_count": 0,
      "outputs": []
    },
    {
      "cell_type": "code",
      "metadata": {
        "id": "ZTQ9nQyd7wAW",
        "colab_type": "code",
        "outputId": "56dc3b9a-7c25-4e85-ed44-c9559939ec6f",
        "colab": {
          "base_uri": "https://localhost:8080/",
          "height": 300
        }
      },
      "source": [
        "\n",
        "df.plot()\n"
      ],
      "execution_count": 0,
      "outputs": [
        {
          "output_type": "execute_result",
          "data": {
            "text/plain": [
              "<matplotlib.axes._subplots.AxesSubplot at 0x7fc70fde24e0>"
            ]
          },
          "metadata": {
            "tags": []
          },
          "execution_count": 43
        },
        {
          "output_type": "display_data",
          "data": {
            "image/png": "[encoded data removed]",
            "text/plain": [
              "<Figure size 432x288 with 1 Axes>"
            ]
          },
          "metadata": {
            "tags": []
          }
        }
      ]
    },
    {
      "cell_type": "code",
      "metadata": {
        "id": "M5n3svBG8J0U",
        "colab_type": "code",
        "outputId": "48d0bb58-28a9-4582-947a-eb65d30b6402",
        "colab": {
          "base_uri": "https://localhost:8080/",
          "height": 293
        }
      },
      "source": [
        "df['Adj Close'].plot()"
      ],
      "execution_count": 0,
      "outputs": [
        {
          "output_type": "execute_result",
          "data": {
            "text/plain": [
              "<matplotlib.axes._subplots.AxesSubplot at 0x7fc7217125f8>"
            ]
          },
          "metadata": {
            "tags": []
          },
          "execution_count": 9
        },
        {
          "output_type": "display_data",
          "data": {
            "image/png": "[encoded data removed]",
            "text/plain": [
              "<Figure size 432x288 with 1 Axes>"
            ]
          },
          "metadata": {
            "tags": []
          }
        }
      ]
    },
    {
      "cell_type": "code",
      "metadata": {
        "id": "hiWOJ90piO6o",
        "colab_type": "code",
        "colab": {}
      },
      "source": [
        "#formatando para o index ser a data  e nao numero\n",
        "df2=pd.read_csv('tsla.csv',parse_dates=True,index_col=0)"
      ],
      "execution_count": 0,
      "outputs": []
    },
    {
      "cell_type": "code",
      "metadata": {
        "id": "NLTxP0vFiO6s",
        "colab_type": "code",
        "outputId": "87008769-16cf-4fe1-bb94-71b3491a230d",
        "colab": {
          "base_uri": "https://localhost:8080/",
          "height": 235
        }
      },
      "source": [
        "df2.head()"
      ],
      "execution_count": 0,
      "outputs": [
        {
          "output_type": "execute_result",
          "data": {
            "text/html": [
              "<div>\n",
              "<style scoped>\n",
              "    .dataframe tbody tr th:only-of-type {\n",
              "        vertical-align: middle;\n",
              "    }\n",
              "\n",
              "    .dataframe tbody tr th {\n",
              "        vertical-align: top;\n",
              "    }\n",
              "\n",
              "    .dataframe thead th {\n",
              "        text-align: right;\n",
              "    }\n",
              "</style>\n",
              "<table border=\"1\" class=\"dataframe\">\n",
              "  <thead>\n",
              "    <tr style=\"text-align: right;\">\n",
              "      <th></th>\n",
              "      <th>High</th>\n",
              "      <th>Low</th>\n",
              "      <th>Open</th>\n",
              "      <th>Close</th>\n",
              "      <th>Volume</th>\n",
              "      <th>Adj Close</th>\n",
              "    </tr>\n",
              "    <tr>\n",
              "      <th>Date</th>\n",
              "      <th></th>\n",
              "      <th></th>\n",
              "      <th></th>\n",
              "      <th></th>\n",
              "      <th></th>\n",
              "      <th></th>\n",
              "    </tr>\n",
              "  </thead>\n",
              "  <tbody>\n",
              "    <tr>\n",
              "      <th>2010-06-29</th>\n",
              "      <td>25.00</td>\n",
              "      <td>17.540001</td>\n",
              "      <td>19.000000</td>\n",
              "      <td>23.889999</td>\n",
              "      <td>18766300</td>\n",
              "      <td>23.889999</td>\n",
              "    </tr>\n",
              "    <tr>\n",
              "      <th>2010-06-30</th>\n",
              "      <td>30.42</td>\n",
              "      <td>23.299999</td>\n",
              "      <td>25.790001</td>\n",
              "      <td>23.830000</td>\n",
              "      <td>17187100</td>\n",
              "      <td>23.830000</td>\n",
              "    </tr>\n",
              "    <tr>\n",
              "      <th>2010-07-01</th>\n",
              "      <td>25.92</td>\n",
              "      <td>20.270000</td>\n",
              "      <td>25.000000</td>\n",
              "      <td>21.959999</td>\n",
              "      <td>8218800</td>\n",
              "      <td>21.959999</td>\n",
              "    </tr>\n",
              "    <tr>\n",
              "      <th>2010-07-02</th>\n",
              "      <td>23.10</td>\n",
              "      <td>18.709999</td>\n",
              "      <td>23.000000</td>\n",
              "      <td>19.200001</td>\n",
              "      <td>5139800</td>\n",
              "      <td>19.200001</td>\n",
              "    </tr>\n",
              "    <tr>\n",
              "      <th>2010-07-06</th>\n",
              "      <td>20.00</td>\n",
              "      <td>15.830000</td>\n",
              "      <td>20.000000</td>\n",
              "      <td>16.110001</td>\n",
              "      <td>6866900</td>\n",
              "      <td>16.110001</td>\n",
              "    </tr>\n",
              "  </tbody>\n",
              "</table>\n",
              "</div>"
            ],
            "text/plain": [
              "             High        Low       Open      Close    Volume  Adj Close\n",
              "Date                                                                   \n",
              "2010-06-29  25.00  17.540001  19.000000  23.889999  18766300  23.889999\n",
              "2010-06-30  30.42  23.299999  25.790001  23.830000  17187100  23.830000\n",
              "2010-07-01  25.92  20.270000  25.000000  21.959999   8218800  21.959999\n",
              "2010-07-02  23.10  18.709999  23.000000  19.200001   5139800  19.200001\n",
              "2010-07-06  20.00  15.830000  20.000000  16.110001   6866900  16.110001"
            ]
          },
          "metadata": {
            "tags": []
          },
          "execution_count": 7
        }
      ]
    },
    {
      "cell_type": "code",
      "metadata": {
        "id": "1Xjcm3HUiO6x",
        "colab_type": "code",
        "outputId": "765af0ec-8f86-4a3a-d43a-184e883f82a8",
        "colab": {
          "base_uri": "https://localhost:8080/",
          "height": 235
        }
      },
      "source": [
        "df2[['Open','High']].head()"
      ],
      "execution_count": 0,
      "outputs": [
        {
          "output_type": "execute_result",
          "data": {
            "text/html": [
              "<div>\n",
              "<style scoped>\n",
              "    .dataframe tbody tr th:only-of-type {\n",
              "        vertical-align: middle;\n",
              "    }\n",
              "\n",
              "    .dataframe tbody tr th {\n",
              "        vertical-align: top;\n",
              "    }\n",
              "\n",
              "    .dataframe thead th {\n",
              "        text-align: right;\n",
              "    }\n",
              "</style>\n",
              "<table border=\"1\" class=\"dataframe\">\n",
              "  <thead>\n",
              "    <tr style=\"text-align: right;\">\n",
              "      <th></th>\n",
              "      <th>Open</th>\n",
              "      <th>High</th>\n",
              "    </tr>\n",
              "    <tr>\n",
              "      <th>Date</th>\n",
              "      <th></th>\n",
              "      <th></th>\n",
              "    </tr>\n",
              "  </thead>\n",
              "  <tbody>\n",
              "    <tr>\n",
              "      <th>2010-06-29</th>\n",
              "      <td>19.000000</td>\n",
              "      <td>25.00</td>\n",
              "    </tr>\n",
              "    <tr>\n",
              "      <th>2010-06-30</th>\n",
              "      <td>25.790001</td>\n",
              "      <td>30.42</td>\n",
              "    </tr>\n",
              "    <tr>\n",
              "      <th>2010-07-01</th>\n",
              "      <td>25.000000</td>\n",
              "      <td>25.92</td>\n",
              "    </tr>\n",
              "    <tr>\n",
              "      <th>2010-07-02</th>\n",
              "      <td>23.000000</td>\n",
              "      <td>23.10</td>\n",
              "    </tr>\n",
              "    <tr>\n",
              "      <th>2010-07-06</th>\n",
              "      <td>20.000000</td>\n",
              "      <td>20.00</td>\n",
              "    </tr>\n",
              "  </tbody>\n",
              "</table>\n",
              "</div>"
            ],
            "text/plain": [
              "                 Open   High\n",
              "Date                        \n",
              "2010-06-29  19.000000  25.00\n",
              "2010-06-30  25.790001  30.42\n",
              "2010-07-01  25.000000  25.92\n",
              "2010-07-02  23.000000  23.10\n",
              "2010-07-06  20.000000  20.00"
            ]
          },
          "metadata": {
            "tags": []
          },
          "execution_count": 10
        }
      ]
    },
    {
      "cell_type": "code",
      "metadata": {
        "id": "MVou9I06iO61",
        "colab_type": "code",
        "outputId": "f09f7555-2c8a-4b1b-dac6-61654fd62349",
        "colab": {
          "base_uri": "https://localhost:8080/",
          "height": 293
        }
      },
      "source": [
        "#imprimindo apenas uma coluna\n",
        "df2['Open'].plot()\n",
        "df2['High'].plot()"
      ],
      "execution_count": 0,
      "outputs": [
        {
          "output_type": "execute_result",
          "data": {
            "text/plain": [
              "<matplotlib.axes._subplots.AxesSubplot at 0x7fc71ed5ec18>"
            ]
          },
          "metadata": {
            "tags": []
          },
          "execution_count": 16
        },
        {
          "output_type": "display_data",
          "data": {
            "image/png": "[encoded data removed]",
            "text/plain": [
              "<Figure size 432x288 with 1 Axes>"
            ]
          },
          "metadata": {
            "tags": []
          }
        }
      ]
    },
    {
      "cell_type": "code",
      "metadata": {
        "id": "iz2--8RfiO65",
        "colab_type": "code",
        "colab": {}
      },
      "source": [
        "#cria uma nova coluna com a media de 100 dias \"100 moving average\"\n",
        "df2['100ma']=df['Adj Close'].rolling(window=100,min_periods=0).mean()\n",
        "#para tirar os nan do começo da tabela nos 100 primeiros valores\n",
        "#df2.dropna(inplace=True)\n",
        "#mas com o min_periods nao precisa do dropna, ele vai aparecer o valor atual da coluna referencia"
      ],
      "execution_count": 0,
      "outputs": []
    },
    {
      "cell_type": "code",
      "metadata": {
        "id": "j6Yzfrs6iO68",
        "colab_type": "code",
        "outputId": "6e9515e5-2a90-4b5a-97e3-0d061b512dcb",
        "colab": {
          "base_uri": "https://localhost:8080/",
          "height": 235
        }
      },
      "source": [
        "df2.head()"
      ],
      "execution_count": 0,
      "outputs": [
        {
          "output_type": "execute_result",
          "data": {
            "text/html": [
              "<div>\n",
              "<style scoped>\n",
              "    .dataframe tbody tr th:only-of-type {\n",
              "        vertical-align: middle;\n",
              "    }\n",
              "\n",
              "    .dataframe tbody tr th {\n",
              "        vertical-align: top;\n",
              "    }\n",
              "\n",
              "    .dataframe thead th {\n",
              "        text-align: right;\n",
              "    }\n",
              "</style>\n",
              "<table border=\"1\" class=\"dataframe\">\n",
              "  <thead>\n",
              "    <tr style=\"text-align: right;\">\n",
              "      <th></th>\n",
              "      <th>High</th>\n",
              "      <th>Low</th>\n",
              "      <th>Open</th>\n",
              "      <th>Close</th>\n",
              "      <th>Volume</th>\n",
              "      <th>Adj Close</th>\n",
              "      <th>100ma</th>\n",
              "    </tr>\n",
              "    <tr>\n",
              "      <th>Date</th>\n",
              "      <th></th>\n",
              "      <th></th>\n",
              "      <th></th>\n",
              "      <th></th>\n",
              "      <th></th>\n",
              "      <th></th>\n",
              "      <th></th>\n",
              "    </tr>\n",
              "  </thead>\n",
              "  <tbody>\n",
              "    <tr>\n",
              "      <th>2010-06-29</th>\n",
              "      <td>25.00</td>\n",
              "      <td>17.540001</td>\n",
              "      <td>19.000000</td>\n",
              "      <td>23.889999</td>\n",
              "      <td>18766300</td>\n",
              "      <td>23.889999</td>\n",
              "      <td>23.889999</td>\n",
              "    </tr>\n",
              "    <tr>\n",
              "      <th>2010-06-30</th>\n",
              "      <td>30.42</td>\n",
              "      <td>23.299999</td>\n",
              "      <td>25.790001</td>\n",
              "      <td>23.830000</td>\n",
              "      <td>17187100</td>\n",
              "      <td>23.830000</td>\n",
              "      <td>23.860000</td>\n",
              "    </tr>\n",
              "    <tr>\n",
              "      <th>2010-07-01</th>\n",
              "      <td>25.92</td>\n",
              "      <td>20.270000</td>\n",
              "      <td>25.000000</td>\n",
              "      <td>21.959999</td>\n",
              "      <td>8218800</td>\n",
              "      <td>21.959999</td>\n",
              "      <td>23.226666</td>\n",
              "    </tr>\n",
              "    <tr>\n",
              "      <th>2010-07-02</th>\n",
              "      <td>23.10</td>\n",
              "      <td>18.709999</td>\n",
              "      <td>23.000000</td>\n",
              "      <td>19.200001</td>\n",
              "      <td>5139800</td>\n",
              "      <td>19.200001</td>\n",
              "      <td>22.220000</td>\n",
              "    </tr>\n",
              "    <tr>\n",
              "      <th>2010-07-06</th>\n",
              "      <td>20.00</td>\n",
              "      <td>15.830000</td>\n",
              "      <td>20.000000</td>\n",
              "      <td>16.110001</td>\n",
              "      <td>6866900</td>\n",
              "      <td>16.110001</td>\n",
              "      <td>20.998000</td>\n",
              "    </tr>\n",
              "  </tbody>\n",
              "</table>\n",
              "</div>"
            ],
            "text/plain": [
              "             High        Low       Open  ...    Volume  Adj Close      100ma\n",
              "Date                                     ...                                \n",
              "2010-06-29  25.00  17.540001  19.000000  ...  18766300  23.889999  23.889999\n",
              "2010-06-30  30.42  23.299999  25.790001  ...  17187100  23.830000  23.860000\n",
              "2010-07-01  25.92  20.270000  25.000000  ...   8218800  21.959999  23.226666\n",
              "2010-07-02  23.10  18.709999  23.000000  ...   5139800  19.200001  22.220000\n",
              "2010-07-06  20.00  15.830000  20.000000  ...   6866900  16.110001  20.998000\n",
              "\n",
              "[5 rows x 7 columns]"
            ]
          },
          "metadata": {
            "tags": []
          },
          "execution_count": 22
        }
      ]
    },
    {
      "cell_type": "code",
      "metadata": {
        "id": "4n1Oe8MciO7A",
        "colab_type": "code",
        "outputId": "4bafd601-3e9f-41b1-f6fc-4f8441258f02",
        "colab": {
          "base_uri": "https://localhost:8080/",
          "height": 235
        }
      },
      "source": [
        "df2.tail()"
      ],
      "execution_count": 0,
      "outputs": [
        {
          "output_type": "execute_result",
          "data": {
            "text/html": [
              "<div>\n",
              "<style scoped>\n",
              "    .dataframe tbody tr th:only-of-type {\n",
              "        vertical-align: middle;\n",
              "    }\n",
              "\n",
              "    .dataframe tbody tr th {\n",
              "        vertical-align: top;\n",
              "    }\n",
              "\n",
              "    .dataframe thead th {\n",
              "        text-align: right;\n",
              "    }\n",
              "</style>\n",
              "<table border=\"1\" class=\"dataframe\">\n",
              "  <thead>\n",
              "    <tr style=\"text-align: right;\">\n",
              "      <th></th>\n",
              "      <th>High</th>\n",
              "      <th>Low</th>\n",
              "      <th>Open</th>\n",
              "      <th>Close</th>\n",
              "      <th>Volume</th>\n",
              "      <th>Adj Close</th>\n",
              "      <th>100ma</th>\n",
              "    </tr>\n",
              "    <tr>\n",
              "      <th>Date</th>\n",
              "      <th></th>\n",
              "      <th></th>\n",
              "      <th></th>\n",
              "      <th></th>\n",
              "      <th></th>\n",
              "      <th></th>\n",
              "      <th></th>\n",
              "    </tr>\n",
              "  </thead>\n",
              "  <tbody>\n",
              "    <tr>\n",
              "      <th>2019-06-13</th>\n",
              "      <td>214.899994</td>\n",
              "      <td>207.509995</td>\n",
              "      <td>210.380005</td>\n",
              "      <td>213.910004</td>\n",
              "      <td>8168300</td>\n",
              "      <td>213.910004</td>\n",
              "      <td>263.307000</td>\n",
              "    </tr>\n",
              "    <tr>\n",
              "      <th>2019-06-14</th>\n",
              "      <td>216.649994</td>\n",
              "      <td>210.399994</td>\n",
              "      <td>211.250000</td>\n",
              "      <td>214.919998</td>\n",
              "      <td>7433400</td>\n",
              "      <td>214.919998</td>\n",
              "      <td>262.467000</td>\n",
              "    </tr>\n",
              "    <tr>\n",
              "      <th>2019-06-17</th>\n",
              "      <td>227.000000</td>\n",
              "      <td>214.270004</td>\n",
              "      <td>215.479996</td>\n",
              "      <td>225.029999</td>\n",
              "      <td>12316800</td>\n",
              "      <td>225.029999</td>\n",
              "      <td>261.841400</td>\n",
              "    </tr>\n",
              "    <tr>\n",
              "      <th>2019-06-18</th>\n",
              "      <td>234.740005</td>\n",
              "      <td>222.559998</td>\n",
              "      <td>228.720001</td>\n",
              "      <td>224.740005</td>\n",
              "      <td>12715800</td>\n",
              "      <td>224.740005</td>\n",
              "      <td>261.173699</td>\n",
              "    </tr>\n",
              "    <tr>\n",
              "      <th>2019-06-19</th>\n",
              "      <td>227.770004</td>\n",
              "      <td>221.059998</td>\n",
              "      <td>225.110001</td>\n",
              "      <td>226.429993</td>\n",
              "      <td>6557600</td>\n",
              "      <td>226.429993</td>\n",
              "      <td>260.467599</td>\n",
              "    </tr>\n",
              "  </tbody>\n",
              "</table>\n",
              "</div>"
            ],
            "text/plain": [
              "                  High         Low  ...   Adj Close       100ma\n",
              "Date                                ...                        \n",
              "2019-06-13  214.899994  207.509995  ...  213.910004  263.307000\n",
              "2019-06-14  216.649994  210.399994  ...  214.919998  262.467000\n",
              "2019-06-17  227.000000  214.270004  ...  225.029999  261.841400\n",
              "2019-06-18  234.740005  222.559998  ...  224.740005  261.173699\n",
              "2019-06-19  227.770004  221.059998  ...  226.429993  260.467599\n",
              "\n",
              "[5 rows x 7 columns]"
            ]
          },
          "metadata": {
            "tags": []
          },
          "execution_count": 15
        }
      ]
    },
    {
      "cell_type": "code",
      "metadata": {
        "id": "l7vXqUjziO7E",
        "colab_type": "code",
        "outputId": "0ffb0f03-dd45-4ebd-bf28-d164dc477748",
        "colab": {}
      },
      "source": [
        "ax1=plt.subplot2grid((6,1),(0,0),rowspan=5,colspan=1)\n",
        "ax2=plt.subplot2grid((6,1),(5,0),rowspan=1,colspan=1,sharex=ax1)#sharex pro ax2 seguir o zoom do ax1\n",
        "ax1.plot(df2.index,df2['Adj Close'])\n",
        "ax1.plot(df2.index,df2['100ma'])\n",
        "ax2.bar(df2.index,df2['Volume'])"
      ],
      "execution_count": 0,
      "outputs": [
        {
          "output_type": "execute_result",
          "data": {
            "text/plain": [
              "<BarContainer object of 1640 artists>"
            ]
          },
          "metadata": {
            "tags": []
          },
          "execution_count": 14
        },
        {
          "output_type": "display_data",
          "data": {
            "image/png": "[encoded data removed]",
            "text/plain": [
              "<Figure size 432x288 with 2 Axes>"
            ]
          },
          "metadata": {
            "tags": []
          }
        }
      ]
    },
    {
      "cell_type": "code",
      "metadata": {
        "id": "qmwW_LcYDW8L",
        "colab_type": "code",
        "colab": {}
      },
      "source": [
        "df2['25ma']=df['Adj Close'].rolling(window=25,min_periods=0).mean()"
      ],
      "execution_count": 0,
      "outputs": []
    },
    {
      "cell_type": "code",
      "metadata": {
        "id": "7wGY0mLeDdkf",
        "colab_type": "code",
        "outputId": "6450d4d3-bc5b-4c29-a4b1-07faa03fd740",
        "colab": {
          "base_uri": "https://localhost:8080/",
          "height": 286
        }
      },
      "source": [
        "ax1=plt.subplot2grid((6,1),(0,0),rowspan=5,colspan=1)\n",
        "ax2=plt.subplot2grid((6,1),(5,0),rowspan=1,colspan=1,sharex=ax1)#sharex pro ax2 seguir o zoom do ax1\n",
        "ax1.plot(df2.index,df2['Adj Close'])\n",
        "ax1.plot(df2.index,df2['100ma'])\n",
        "ax1.plot(df2.index,df2['25ma'],color='green')\n",
        "ax2.bar(df2.index,df2['Volume'])"
      ],
      "execution_count": 0,
      "outputs": [
        {
          "output_type": "execute_result",
          "data": {
            "text/plain": [
              "<BarContainer object of 2259 artists>"
            ]
          },
          "metadata": {
            "tags": []
          },
          "execution_count": 36
        },
        {
          "output_type": "display_data",
          "data": {
            "image/png": "[encoded data removed]",
            "text/plain": [
              "<Figure size 432x288 with 2 Axes>"
            ]
          },
          "metadata": {
            "tags": []
          }
        }
      ]
    },
    {
      "cell_type": "code",
      "metadata": {
        "id": "GFL8yb6ziO7I",
        "colab_type": "code",
        "colab": {}
      },
      "source": [
        "#resamplig uma amostra para diminuir a quantidade \n",
        "#olhc = open / high / low / close\n",
        "df_ohlc=df['Adj Close'].resample('10D').ohlc()\n",
        "df_volume=df['Volume'].resample('10D').sum()"
      ],
      "execution_count": 0,
      "outputs": []
    },
    {
      "cell_type": "code",
      "metadata": {
        "id": "gwsgV1B0iO7L",
        "colab_type": "code",
        "outputId": "7f0e0a91-5364-404b-f75c-9227622ef933",
        "colab": {
          "base_uri": "https://localhost:8080/",
          "height": 235
        }
      },
      "source": [
        "df_ohlc.head()"
      ],
      "execution_count": 0,
      "outputs": [
        {
          "output_type": "execute_result",
          "data": {
            "text/html": [
              "<div>\n",
              "<style scoped>\n",
              "    .dataframe tbody tr th:only-of-type {\n",
              "        vertical-align: middle;\n",
              "    }\n",
              "\n",
              "    .dataframe tbody tr th {\n",
              "        vertical-align: top;\n",
              "    }\n",
              "\n",
              "    .dataframe thead th {\n",
              "        text-align: right;\n",
              "    }\n",
              "</style>\n",
              "<table border=\"1\" class=\"dataframe\">\n",
              "  <thead>\n",
              "    <tr style=\"text-align: right;\">\n",
              "      <th></th>\n",
              "      <th>open</th>\n",
              "      <th>high</th>\n",
              "      <th>low</th>\n",
              "      <th>close</th>\n",
              "    </tr>\n",
              "    <tr>\n",
              "      <th>Date</th>\n",
              "      <th></th>\n",
              "      <th></th>\n",
              "      <th></th>\n",
              "      <th></th>\n",
              "    </tr>\n",
              "  </thead>\n",
              "  <tbody>\n",
              "    <tr>\n",
              "      <th>2010-06-29</th>\n",
              "      <td>23.889999</td>\n",
              "      <td>23.889999</td>\n",
              "      <td>15.800000</td>\n",
              "      <td>17.459999</td>\n",
              "    </tr>\n",
              "    <tr>\n",
              "      <th>2010-07-09</th>\n",
              "      <td>17.400000</td>\n",
              "      <td>20.639999</td>\n",
              "      <td>17.049999</td>\n",
              "      <td>20.639999</td>\n",
              "    </tr>\n",
              "    <tr>\n",
              "      <th>2010-07-19</th>\n",
              "      <td>21.910000</td>\n",
              "      <td>21.910000</td>\n",
              "      <td>20.219999</td>\n",
              "      <td>20.719999</td>\n",
              "    </tr>\n",
              "    <tr>\n",
              "      <th>2010-07-29</th>\n",
              "      <td>20.350000</td>\n",
              "      <td>21.950001</td>\n",
              "      <td>19.590000</td>\n",
              "      <td>19.590000</td>\n",
              "    </tr>\n",
              "    <tr>\n",
              "      <th>2010-08-08</th>\n",
              "      <td>19.600000</td>\n",
              "      <td>19.600000</td>\n",
              "      <td>17.600000</td>\n",
              "      <td>19.150000</td>\n",
              "    </tr>\n",
              "  </tbody>\n",
              "</table>\n",
              "</div>"
            ],
            "text/plain": [
              "                 open       high        low      close\n",
              "Date                                                  \n",
              "2010-06-29  23.889999  23.889999  15.800000  17.459999\n",
              "2010-07-09  17.400000  20.639999  17.049999  20.639999\n",
              "2010-07-19  21.910000  21.910000  20.219999  20.719999\n",
              "2010-07-29  20.350000  21.950001  19.590000  19.590000\n",
              "2010-08-08  19.600000  19.600000  17.600000  19.150000"
            ]
          },
          "metadata": {
            "tags": []
          },
          "execution_count": 46
        }
      ]
    },
    {
      "cell_type": "code",
      "metadata": {
        "id": "Q5Zwrvm-KHTG",
        "colab_type": "code",
        "colab": {}
      },
      "source": [
        "#pip install https://github.com/matplotlib/mpl_finance/archive/master.zip"
      ],
      "execution_count": 0,
      "outputs": []
    },
    {
      "cell_type": "code",
      "metadata": {
        "id": "tcLq2_uWiO7Q",
        "colab_type": "code",
        "colab": {}
      },
      "source": [
        "#from matplotlib.finance import candlestick_ohlc\n",
        "from mpl_finance import candlestick_ohlc\n",
        "import matplotlib.dates as mdates"
      ],
      "execution_count": 0,
      "outputs": []
    },
    {
      "cell_type": "code",
      "metadata": {
        "id": "9POo5x7uiO7U",
        "colab_type": "code",
        "colab": {}
      },
      "source": [
        "#we need reset the index to use candlestick_ohlc\n",
        "df_ohlc.reset_index(inplace=True)"
      ],
      "execution_count": 0,
      "outputs": []
    },
    {
      "cell_type": "code",
      "metadata": {
        "id": "VR1Z_5C8iO7Y",
        "colab_type": "code",
        "colab": {}
      },
      "source": [
        "#need to convert the date to a format accept by the plot candlestick\n",
        "df_ohlc['Date']=df_ohlc['Date'].map(mdates.date2num)"
      ],
      "execution_count": 0,
      "outputs": []
    },
    {
      "cell_type": "code",
      "metadata": {
        "id": "7PSq7ifeiO7b",
        "colab_type": "code",
        "outputId": "b2eaaf7a-885c-448e-d95b-09ec59b11a02",
        "colab": {
          "base_uri": "https://localhost:8080/",
          "height": 204
        }
      },
      "source": [
        "df_ohlc.head()"
      ],
      "execution_count": 0,
      "outputs": [
        {
          "output_type": "execute_result",
          "data": {
            "text/html": [
              "<div>\n",
              "<style scoped>\n",
              "    .dataframe tbody tr th:only-of-type {\n",
              "        vertical-align: middle;\n",
              "    }\n",
              "\n",
              "    .dataframe tbody tr th {\n",
              "        vertical-align: top;\n",
              "    }\n",
              "\n",
              "    .dataframe thead th {\n",
              "        text-align: right;\n",
              "    }\n",
              "</style>\n",
              "<table border=\"1\" class=\"dataframe\">\n",
              "  <thead>\n",
              "    <tr style=\"text-align: right;\">\n",
              "      <th></th>\n",
              "      <th>Date</th>\n",
              "      <th>open</th>\n",
              "      <th>high</th>\n",
              "      <th>low</th>\n",
              "      <th>close</th>\n",
              "    </tr>\n",
              "  </thead>\n",
              "  <tbody>\n",
              "    <tr>\n",
              "      <th>0</th>\n",
              "      <td>733952.0</td>\n",
              "      <td>23.889999</td>\n",
              "      <td>23.889999</td>\n",
              "      <td>15.800000</td>\n",
              "      <td>17.459999</td>\n",
              "    </tr>\n",
              "    <tr>\n",
              "      <th>1</th>\n",
              "      <td>733962.0</td>\n",
              "      <td>17.400000</td>\n",
              "      <td>20.639999</td>\n",
              "      <td>17.049999</td>\n",
              "      <td>20.639999</td>\n",
              "    </tr>\n",
              "    <tr>\n",
              "      <th>2</th>\n",
              "      <td>733972.0</td>\n",
              "      <td>21.910000</td>\n",
              "      <td>21.910000</td>\n",
              "      <td>20.219999</td>\n",
              "      <td>20.719999</td>\n",
              "    </tr>\n",
              "    <tr>\n",
              "      <th>3</th>\n",
              "      <td>733982.0</td>\n",
              "      <td>20.350000</td>\n",
              "      <td>21.950001</td>\n",
              "      <td>19.590000</td>\n",
              "      <td>19.590000</td>\n",
              "    </tr>\n",
              "    <tr>\n",
              "      <th>4</th>\n",
              "      <td>733992.0</td>\n",
              "      <td>19.600000</td>\n",
              "      <td>19.600000</td>\n",
              "      <td>17.600000</td>\n",
              "      <td>19.150000</td>\n",
              "    </tr>\n",
              "  </tbody>\n",
              "</table>\n",
              "</div>"
            ],
            "text/plain": [
              "       Date       open       high        low      close\n",
              "0  733952.0  23.889999  23.889999  15.800000  17.459999\n",
              "1  733962.0  17.400000  20.639999  17.049999  20.639999\n",
              "2  733972.0  21.910000  21.910000  20.219999  20.719999\n",
              "3  733982.0  20.350000  21.950001  19.590000  19.590000\n",
              "4  733992.0  19.600000  19.600000  17.600000  19.150000"
            ]
          },
          "metadata": {
            "tags": []
          },
          "execution_count": 57
        }
      ]
    },
    {
      "cell_type": "code",
      "metadata": {
        "id": "m8BcoganiO7h",
        "colab_type": "code",
        "outputId": "b5b030f0-4402-4979-b422-846078ea6b47",
        "colab": {
          "base_uri": "https://localhost:8080/",
          "height": 286
        }
      },
      "source": [
        "ax1=plt.subplot2grid((6,1),(0,0),rowspan=5,colspan=1)\n",
        "ax2=plt.subplot2grid((6,1),(5,0),rowspan=1,colspan=1,sharex=ax1)\n",
        "ax1.xaxis_date()\n",
        "#widht the candle / coloy up default is black\n",
        "candlestick_ohlc(ax1,df_ohlc.values,width=2,colorup='g')\n",
        "ax2.fill_between(df_volume.index.map(mdates.date2num),df_volume.values,0)"
      ],
      "execution_count": 0,
      "outputs": [
        {
          "output_type": "execute_result",
          "data": {
            "text/plain": [
              "<matplotlib.collections.PolyCollection at 0x7fc70d5212b0>"
            ]
          },
          "metadata": {
            "tags": []
          },
          "execution_count": 63
        },
        {
          "output_type": "display_data",
          "data": {
            "image/png": "[encoded data removed]",
            "text/plain": [
              "<Figure size 432x288 with 2 Axes>"
            ]
          },
          "metadata": {
            "tags": []
          }
        }
      ]
    }
  ]
}